{
  "nbformat": 4,
  "nbformat_minor": 0,
  "metadata": {
    "kernelspec": {
      "display_name": "Python 3",
      "language": "python",
      "name": "python3"
    },
    "language_info": {
      "codemirror_mode": {
        "name": "ipython",
        "version": 3
      },
      "file_extension": ".py",
      "mimetype": "text/x-python",
      "name": "python",
      "nbconvert_exporter": "python",
      "pygments_lexer": "ipython3",
      "version": "3.6.4"
    },
    "colab": {
      "name": "Preproccessing_of_Dataset.ipynb",
      "version": "0.3.2",
      "provenance": [],
      "collapsed_sections": [
        "jm2eOE1fif8Z"
      ],
      "toc_visible": true,
      "include_colab_link": true
    }
  },
  "cells": [
    {
      "cell_type": "markdown",
      "metadata": {
        "id": "view-in-github",
        "colab_type": "text"
      },
      "source": [
        "<a href=\"https://colab.research.google.com/github/noorasmat/Scaling-Normazlization-Descritization-Visualization/blob/master/Preproccessing_of_Dataset.ipynb\" target=\"_parent\"><img src=\"https://colab.research.google.com/assets/colab-badge.svg\" alt=\"Open In Colab\"/></a>"
      ]
    },
    {
      "cell_type": "markdown",
      "metadata": {
        "id": "rOeL7QdjLf-q",
        "colab_type": "text"
      },
      "source": [
        "# Preprocessing data"
      ]
    },
    {
      "cell_type": "markdown",
      "metadata": {
        "_cell_guid": "d675f93d-0c0d-4ac7-b053-dd9065a33d56",
        "_uuid": "3131dcaf31c96c676242a0df7193a99d2d3bce2d",
        "id": "wRTbydx_YCc3",
        "colab_type": "text"
      },
      "source": [
        "For [Help](https://scikit-learn.org/stable/modules/preprocessing.html) and \n",
        " [Dataset downloaded from](https://www.mldata.io/datasets/)"
      ]
    },
    {
      "cell_type": "code",
      "metadata": {
        "_cell_guid": "d961dd33-8257-4064-80fe-29c202d672fe",
        "_uuid": "0992f2ae0d2bb5a57d788d9cdd375bb6b1e95fb4",
        "collapsed": true,
        "id": "KILo4rIYYCc5",
        "colab_type": "code",
        "outputId": "145ef757-c7e5-4cfc-bf79-7250e1566145",
        "colab": {
          "base_uri": "https://localhost:8080/",
          "height": 17
        }
      },
      "source": [
        "import numpy as np            # Data manipulation\n",
        "import pandas as pd           # Dataframe manipulatio \n",
        "import matplotlib.pyplot as plt                   # For graphics\n",
        "%matplotlib inline\n",
        "import seaborn as sns\n",
        "import plotly.plotly as py #For World Map\n",
        "import plotly.graph_objs as go\n",
        "from plotly.offline import download_plotlyjs, init_notebook_mode, plot, iplot\n",
        "init_notebook_mode(connected=True)\n",
        "\n",
        "from sklearn import preprocessing \n",
        "import os                     # For os related operations\n",
        "import sys                    # For data size\n"
      ],
      "execution_count": 1,
      "outputs": [
        {
          "output_type": "display_data",
          "data": {
            "text/vnd.plotly.v1+html": "<script type=\"text/javascript\">window.PlotlyConfig = {MathJaxConfig: 'local'};</script><script type=\"text/javascript\">if (window.MathJax) {MathJax.Hub.Config({SVG: {font: \"STIX-Web\"}});}</script><script>requirejs.config({paths: { 'plotly': ['https://cdn.plot.ly/plotly-latest.min']},});if(!window._Plotly) {require(['plotly'],function(plotly) {window._Plotly=plotly;});}</script>",
            "text/html": [
              "<script type=\"text/javascript\">window.PlotlyConfig = {MathJaxConfig: 'local'};</script><script type=\"text/javascript\">if (window.MathJax) {MathJax.Hub.Config({SVG: {font: \"STIX-Web\"}});}</script><script>requirejs.config({paths: { 'plotly': ['https://cdn.plot.ly/plotly-latest.min']},});if(!window._Plotly) {require(['plotly'],function(plotly) {window._Plotly=plotly;});}</script>"
            ]
          },
          "metadata": {
            "tags": []
          }
        }
      ]
    },
    {
      "cell_type": "code",
      "metadata": {
        "id": "_4u5JJJlZYlF",
        "colab_type": "code",
        "outputId": "cc562e06-ea29-4b28-e2cf-4fd0d36305d8",
        "colab": {
          "base_uri": "https://localhost:8080/",
          "height": 127
        }
      },
      "source": [
        "from google.colab import drive\n",
        "drive.mount('/content/drive')"
      ],
      "execution_count": 2,
      "outputs": [
        {
          "output_type": "stream",
          "text": [
            "Go to this URL in a browser: https://accounts.google.com/o/oauth2/auth?client_id=947318989803-6bn6qk8qdgf4n4g3pfee6491hc0brc4i.apps.googleusercontent.com&redirect_uri=urn%3Aietf%3Awg%3Aoauth%3A2.0%3Aoob&scope=email%20https%3A%2F%2Fwww.googleapis.com%2Fauth%2Fdocs.test%20https%3A%2F%2Fwww.googleapis.com%2Fauth%2Fdrive%20https%3A%2F%2Fwww.googleapis.com%2Fauth%2Fdrive.photos.readonly%20https%3A%2F%2Fwww.googleapis.com%2Fauth%2Fpeopleapi.readonly&response_type=code\n",
            "\n",
            "Enter your authorization code:\n",
            "··········\n",
            "Mounted at /content/drive\n"
          ],
          "name": "stdout"
        }
      ]
    },
    {
      "cell_type": "code",
      "metadata": {
        "_cell_guid": "1f8e1c6c-3c6d-42e0-b636-6ab998573190",
        "_uuid": "5c5dd3d5f14263397b29bef8f271e9d5911087db",
        "collapsed": true,
        "id": "oI09mY9ZYCdA",
        "colab_type": "code",
        "outputId": "0d7959b6-915f-4e65-f54f-eb7ab9b7b872",
        "colab": {
          "base_uri": "https://localhost:8080/",
          "height": 258
        }
      },
      "source": [
        "wh = pd.read_csv(\"/content/drive/My Drive/DataSets/Missing values/kamyr-digester.csv\") #Read the dataset\n",
        "wh.head()"
      ],
      "execution_count": 3,
      "outputs": [
        {
          "output_type": "execute_result",
          "data": {
            "text/html": [
              "<div>\n",
              "<style scoped>\n",
              "    .dataframe tbody tr th:only-of-type {\n",
              "        vertical-align: middle;\n",
              "    }\n",
              "\n",
              "    .dataframe tbody tr th {\n",
              "        vertical-align: top;\n",
              "    }\n",
              "\n",
              "    .dataframe thead th {\n",
              "        text-align: right;\n",
              "    }\n",
              "</style>\n",
              "<table border=\"1\" class=\"dataframe\">\n",
              "  <thead>\n",
              "    <tr style=\"text-align: right;\">\n",
              "      <th></th>\n",
              "      <th>Observation</th>\n",
              "      <th>Y-Kappa</th>\n",
              "      <th>ChipRate</th>\n",
              "      <th>BF-CMratio</th>\n",
              "      <th>BlowFlow</th>\n",
              "      <th>ChipLevel4</th>\n",
              "      <th>T-upperExt-2</th>\n",
              "      <th>T-lowerExt-2</th>\n",
              "      <th>UCZAA</th>\n",
              "      <th>WhiteFlow-4</th>\n",
              "      <th>AAWhiteSt-4</th>\n",
              "      <th>AA-Wood-4</th>\n",
              "      <th>ChipMoisture-4</th>\n",
              "      <th>SteamFlow-4</th>\n",
              "      <th>Lower-HeatT-3</th>\n",
              "      <th>Upper-HeatT-3</th>\n",
              "      <th>ChipMass-4</th>\n",
              "      <th>WeakLiquorF</th>\n",
              "      <th>BlackFlow-2</th>\n",
              "      <th>WeakWashF</th>\n",
              "      <th>SteamHeatF-3</th>\n",
              "      <th>T-Top-Chips-4</th>\n",
              "      <th>SulphidityL-4</th>\n",
              "    </tr>\n",
              "  </thead>\n",
              "  <tbody>\n",
              "    <tr>\n",
              "      <th>0</th>\n",
              "      <td>31-00:00</td>\n",
              "      <td>23.10</td>\n",
              "      <td>16.520</td>\n",
              "      <td>121.717</td>\n",
              "      <td>1177.607</td>\n",
              "      <td>169.805</td>\n",
              "      <td>358.282</td>\n",
              "      <td>329.545</td>\n",
              "      <td>1.443</td>\n",
              "      <td>599.253</td>\n",
              "      <td>NaN</td>\n",
              "      <td>16.471</td>\n",
              "      <td>46.011</td>\n",
              "      <td>67.122</td>\n",
              "      <td>329.432</td>\n",
              "      <td>303.099</td>\n",
              "      <td>175.964</td>\n",
              "      <td>1127.197</td>\n",
              "      <td>1319.039</td>\n",
              "      <td>257.325</td>\n",
              "      <td>54.612</td>\n",
              "      <td>252.077</td>\n",
              "      <td>NaN</td>\n",
              "    </tr>\n",
              "    <tr>\n",
              "      <th>1</th>\n",
              "      <td>31-01:00</td>\n",
              "      <td>27.60</td>\n",
              "      <td>16.810</td>\n",
              "      <td>79.022</td>\n",
              "      <td>1328.360</td>\n",
              "      <td>341.327</td>\n",
              "      <td>351.050</td>\n",
              "      <td>329.067</td>\n",
              "      <td>1.549</td>\n",
              "      <td>537.201</td>\n",
              "      <td>6.076</td>\n",
              "      <td>16.543</td>\n",
              "      <td>43.954</td>\n",
              "      <td>60.012</td>\n",
              "      <td>330.823</td>\n",
              "      <td>304.879</td>\n",
              "      <td>163.202</td>\n",
              "      <td>665.975</td>\n",
              "      <td>1297.317</td>\n",
              "      <td>241.182</td>\n",
              "      <td>46.603</td>\n",
              "      <td>251.406</td>\n",
              "      <td>29.11</td>\n",
              "    </tr>\n",
              "    <tr>\n",
              "      <th>2</th>\n",
              "      <td>31-02:00</td>\n",
              "      <td>23.19</td>\n",
              "      <td>16.709</td>\n",
              "      <td>79.562</td>\n",
              "      <td>1329.407</td>\n",
              "      <td>239.161</td>\n",
              "      <td>350.022</td>\n",
              "      <td>329.260</td>\n",
              "      <td>1.600</td>\n",
              "      <td>549.611</td>\n",
              "      <td>NaN</td>\n",
              "      <td>16.559</td>\n",
              "      <td>44.495</td>\n",
              "      <td>61.304</td>\n",
              "      <td>329.140</td>\n",
              "      <td>303.383</td>\n",
              "      <td>164.013</td>\n",
              "      <td>677.534</td>\n",
              "      <td>1327.072</td>\n",
              "      <td>237.272</td>\n",
              "      <td>51.795</td>\n",
              "      <td>251.335</td>\n",
              "      <td>NaN</td>\n",
              "    </tr>\n",
              "    <tr>\n",
              "      <th>3</th>\n",
              "      <td>31-03:00</td>\n",
              "      <td>23.60</td>\n",
              "      <td>16.478</td>\n",
              "      <td>81.011</td>\n",
              "      <td>1334.877</td>\n",
              "      <td>213.527</td>\n",
              "      <td>350.938</td>\n",
              "      <td>331.142</td>\n",
              "      <td>1.604</td>\n",
              "      <td>623.362</td>\n",
              "      <td>6.054</td>\n",
              "      <td>16.562</td>\n",
              "      <td>45.592</td>\n",
              "      <td>68.496</td>\n",
              "      <td>328.875</td>\n",
              "      <td>302.254</td>\n",
              "      <td>181.487</td>\n",
              "      <td>767.853</td>\n",
              "      <td>1324.461</td>\n",
              "      <td>239.478</td>\n",
              "      <td>54.846</td>\n",
              "      <td>250.312</td>\n",
              "      <td>29.02</td>\n",
              "    </tr>\n",
              "    <tr>\n",
              "      <th>4</th>\n",
              "      <td>31-04:00</td>\n",
              "      <td>22.90</td>\n",
              "      <td>15.618</td>\n",
              "      <td>93.244</td>\n",
              "      <td>1334.168</td>\n",
              "      <td>243.131</td>\n",
              "      <td>351.640</td>\n",
              "      <td>332.709</td>\n",
              "      <td>NaN</td>\n",
              "      <td>638.672</td>\n",
              "      <td>6.110</td>\n",
              "      <td>16.677</td>\n",
              "      <td>45.512</td>\n",
              "      <td>70.022</td>\n",
              "      <td>328.352</td>\n",
              "      <td>300.954</td>\n",
              "      <td>183.929</td>\n",
              "      <td>888.448</td>\n",
              "      <td>1343.424</td>\n",
              "      <td>215.372</td>\n",
              "      <td>54.186</td>\n",
              "      <td>249.916</td>\n",
              "      <td>29.01</td>\n",
              "    </tr>\n",
              "  </tbody>\n",
              "</table>\n",
              "</div>"
            ],
            "text/plain": [
              "  Observation  Y-Kappa  ChipRate  ...  SteamHeatF-3   T-Top-Chips-4   SulphidityL-4 \n",
              "0    31-00:00    23.10    16.520  ...         54.612         252.077             NaN\n",
              "1    31-01:00    27.60    16.810  ...         46.603         251.406           29.11\n",
              "2    31-02:00    23.19    16.709  ...         51.795         251.335             NaN\n",
              "3    31-03:00    23.60    16.478  ...         54.846         250.312           29.02\n",
              "4    31-04:00    22.90    15.618  ...         54.186         249.916           29.01\n",
              "\n",
              "[5 rows x 23 columns]"
            ]
          },
          "metadata": {
            "tags": []
          },
          "execution_count": 3
        }
      ]
    },
    {
      "cell_type": "code",
      "metadata": {
        "id": "HKsZHRw-REMT",
        "colab_type": "code",
        "outputId": "8d2796df-f52d-45c3-fc46-590b6f6b0c73",
        "colab": {
          "base_uri": "https://localhost:8080/",
          "height": 351
        }
      },
      "source": [
        "wh.describe()"
      ],
      "execution_count": 4,
      "outputs": [
        {
          "output_type": "execute_result",
          "data": {
            "text/html": [
              "<div>\n",
              "<style scoped>\n",
              "    .dataframe tbody tr th:only-of-type {\n",
              "        vertical-align: middle;\n",
              "    }\n",
              "\n",
              "    .dataframe tbody tr th {\n",
              "        vertical-align: top;\n",
              "    }\n",
              "\n",
              "    .dataframe thead th {\n",
              "        text-align: right;\n",
              "    }\n",
              "</style>\n",
              "<table border=\"1\" class=\"dataframe\">\n",
              "  <thead>\n",
              "    <tr style=\"text-align: right;\">\n",
              "      <th></th>\n",
              "      <th>Y-Kappa</th>\n",
              "      <th>ChipRate</th>\n",
              "      <th>BF-CMratio</th>\n",
              "      <th>BlowFlow</th>\n",
              "      <th>ChipLevel4</th>\n",
              "      <th>T-upperExt-2</th>\n",
              "      <th>T-lowerExt-2</th>\n",
              "      <th>UCZAA</th>\n",
              "      <th>WhiteFlow-4</th>\n",
              "      <th>AAWhiteSt-4</th>\n",
              "      <th>AA-Wood-4</th>\n",
              "      <th>ChipMoisture-4</th>\n",
              "      <th>SteamFlow-4</th>\n",
              "      <th>Lower-HeatT-3</th>\n",
              "      <th>Upper-HeatT-3</th>\n",
              "      <th>ChipMass-4</th>\n",
              "      <th>WeakLiquorF</th>\n",
              "      <th>BlackFlow-2</th>\n",
              "      <th>WeakWashF</th>\n",
              "      <th>SteamHeatF-3</th>\n",
              "      <th>T-Top-Chips-4</th>\n",
              "      <th>SulphidityL-4</th>\n",
              "    </tr>\n",
              "  </thead>\n",
              "  <tbody>\n",
              "    <tr>\n",
              "      <th>count</th>\n",
              "      <td>301.000000</td>\n",
              "      <td>297.000000</td>\n",
              "      <td>287.000000</td>\n",
              "      <td>288.000000</td>\n",
              "      <td>300.000000</td>\n",
              "      <td>300.000000</td>\n",
              "      <td>300.000000</td>\n",
              "      <td>277.000000</td>\n",
              "      <td>300.000000</td>\n",
              "      <td>160.000000</td>\n",
              "      <td>300.000000</td>\n",
              "      <td>300.000000</td>\n",
              "      <td>300.000000</td>\n",
              "      <td>300.00000</td>\n",
              "      <td>300.000000</td>\n",
              "      <td>300.000000</td>\n",
              "      <td>300.000000</td>\n",
              "      <td>300.000000</td>\n",
              "      <td>300.000000</td>\n",
              "      <td>300.000000</td>\n",
              "      <td>300.000000</td>\n",
              "      <td>160.000000</td>\n",
              "    </tr>\n",
              "    <tr>\n",
              "      <th>mean</th>\n",
              "      <td>20.568605</td>\n",
              "      <td>14.338670</td>\n",
              "      <td>87.271564</td>\n",
              "      <td>1235.537278</td>\n",
              "      <td>259.365993</td>\n",
              "      <td>356.907033</td>\n",
              "      <td>324.010783</td>\n",
              "      <td>1.490588</td>\n",
              "      <td>593.148090</td>\n",
              "      <td>6.143013</td>\n",
              "      <td>17.892030</td>\n",
              "      <td>46.875530</td>\n",
              "      <td>66.834567</td>\n",
              "      <td>325.37041</td>\n",
              "      <td>300.381743</td>\n",
              "      <td>162.120610</td>\n",
              "      <td>875.491563</td>\n",
              "      <td>1170.387177</td>\n",
              "      <td>266.104633</td>\n",
              "      <td>49.664537</td>\n",
              "      <td>251.229687</td>\n",
              "      <td>30.463594</td>\n",
              "    </tr>\n",
              "    <tr>\n",
              "      <th>std</th>\n",
              "      <td>2.990751</td>\n",
              "      <td>1.490121</td>\n",
              "      <td>7.839690</td>\n",
              "      <td>102.023065</td>\n",
              "      <td>85.643939</td>\n",
              "      <td>8.954457</td>\n",
              "      <td>7.650502</td>\n",
              "      <td>0.108138</td>\n",
              "      <td>66.949732</td>\n",
              "      <td>0.082396</td>\n",
              "      <td>0.902461</td>\n",
              "      <td>1.428406</td>\n",
              "      <td>5.643655</td>\n",
              "      <td>4.63735</td>\n",
              "      <td>4.647201</td>\n",
              "      <td>14.129462</td>\n",
              "      <td>123.182165</td>\n",
              "      <td>149.288972</td>\n",
              "      <td>163.222997</td>\n",
              "      <td>4.589876</td>\n",
              "      <td>1.293151</td>\n",
              "      <td>0.671066</td>\n",
              "    </tr>\n",
              "    <tr>\n",
              "      <th>min</th>\n",
              "      <td>12.170000</td>\n",
              "      <td>9.983000</td>\n",
              "      <td>68.645000</td>\n",
              "      <td>0.000000</td>\n",
              "      <td>0.000000</td>\n",
              "      <td>339.168000</td>\n",
              "      <td>284.633000</td>\n",
              "      <td>1.182000</td>\n",
              "      <td>405.111000</td>\n",
              "      <td>5.890000</td>\n",
              "      <td>16.471000</td>\n",
              "      <td>42.822000</td>\n",
              "      <td>48.568000</td>\n",
              "      <td>318.05100</td>\n",
              "      <td>293.312000</td>\n",
              "      <td>113.922000</td>\n",
              "      <td>486.938000</td>\n",
              "      <td>838.948000</td>\n",
              "      <td>0.000000</td>\n",
              "      <td>35.510000</td>\n",
              "      <td>248.359000</td>\n",
              "      <td>29.010000</td>\n",
              "    </tr>\n",
              "    <tr>\n",
              "      <th>25%</th>\n",
              "      <td>18.450000</td>\n",
              "      <td>13.358000</td>\n",
              "      <td>81.753500</td>\n",
              "      <td>1194.047250</td>\n",
              "      <td>215.369250</td>\n",
              "      <td>350.317000</td>\n",
              "      <td>321.534000</td>\n",
              "      <td>1.429000</td>\n",
              "      <td>543.137750</td>\n",
              "      <td>6.093000</td>\n",
              "      <td>17.115000</td>\n",
              "      <td>45.818000</td>\n",
              "      <td>62.847250</td>\n",
              "      <td>321.23275</td>\n",
              "      <td>296.418250</td>\n",
              "      <td>153.089750</td>\n",
              "      <td>791.096750</td>\n",
              "      <td>1038.338500</td>\n",
              "      <td>141.560000</td>\n",
              "      <td>46.378500</td>\n",
              "      <td>250.298250</td>\n",
              "      <td>30.107500</td>\n",
              "    </tr>\n",
              "    <tr>\n",
              "      <th>50%</th>\n",
              "      <td>20.740000</td>\n",
              "      <td>14.417000</td>\n",
              "      <td>86.705000</td>\n",
              "      <td>1267.130000</td>\n",
              "      <td>271.845500</td>\n",
              "      <td>357.178500</td>\n",
              "      <td>325.638500</td>\n",
              "      <td>1.498000</td>\n",
              "      <td>594.294000</td>\n",
              "      <td>6.140000</td>\n",
              "      <td>17.797000</td>\n",
              "      <td>46.911000</td>\n",
              "      <td>67.751000</td>\n",
              "      <td>323.25150</td>\n",
              "      <td>298.493000</td>\n",
              "      <td>163.601000</td>\n",
              "      <td>869.552000</td>\n",
              "      <td>1144.513500</td>\n",
              "      <td>280.451500</td>\n",
              "      <td>50.192500</td>\n",
              "      <td>251.357500</td>\n",
              "      <td>30.395000</td>\n",
              "    </tr>\n",
              "    <tr>\n",
              "      <th>75%</th>\n",
              "      <td>23.000000</td>\n",
              "      <td>15.492000</td>\n",
              "      <td>92.153500</td>\n",
              "      <td>1288.390000</td>\n",
              "      <td>321.285000</td>\n",
              "      <td>362.326250</td>\n",
              "      <td>329.129250</td>\n",
              "      <td>1.561000</td>\n",
              "      <td>643.567000</td>\n",
              "      <td>6.200000</td>\n",
              "      <td>18.595250</td>\n",
              "      <td>48.004750</td>\n",
              "      <td>71.650250</td>\n",
              "      <td>329.81600</td>\n",
              "      <td>304.228250</td>\n",
              "      <td>172.286750</td>\n",
              "      <td>969.904000</td>\n",
              "      <td>1318.632750</td>\n",
              "      <td>405.887750</td>\n",
              "      <td>53.284750</td>\n",
              "      <td>252.332250</td>\n",
              "      <td>30.838250</td>\n",
              "    </tr>\n",
              "    <tr>\n",
              "      <th>max</th>\n",
              "      <td>27.600000</td>\n",
              "      <td>16.958000</td>\n",
              "      <td>121.717000</td>\n",
              "      <td>1351.240000</td>\n",
              "      <td>419.014000</td>\n",
              "      <td>399.135000</td>\n",
              "      <td>337.012000</td>\n",
              "      <td>1.747000</td>\n",
              "      <td>731.394000</td>\n",
              "      <td>6.340000</td>\n",
              "      <td>19.582000</td>\n",
              "      <td>50.658000</td>\n",
              "      <td>76.147000</td>\n",
              "      <td>333.85400</td>\n",
              "      <td>311.146000</td>\n",
              "      <td>189.268000</td>\n",
              "      <td>1226.277000</td>\n",
              "      <td>1395.767000</td>\n",
              "      <td>715.715000</td>\n",
              "      <td>63.332000</td>\n",
              "      <td>254.122000</td>\n",
              "      <td>32.840000</td>\n",
              "    </tr>\n",
              "  </tbody>\n",
              "</table>\n",
              "</div>"
            ],
            "text/plain": [
              "          Y-Kappa    ChipRate  ...  T-Top-Chips-4   SulphidityL-4 \n",
              "count  301.000000  297.000000  ...      300.000000      160.000000\n",
              "mean    20.568605   14.338670  ...      251.229687       30.463594\n",
              "std      2.990751    1.490121  ...        1.293151        0.671066\n",
              "min     12.170000    9.983000  ...      248.359000       29.010000\n",
              "25%     18.450000   13.358000  ...      250.298250       30.107500\n",
              "50%     20.740000   14.417000  ...      251.357500       30.395000\n",
              "75%     23.000000   15.492000  ...      252.332250       30.838250\n",
              "max     27.600000   16.958000  ...      254.122000       32.840000\n",
              "\n",
              "[8 rows x 22 columns]"
            ]
          },
          "metadata": {
            "tags": []
          },
          "execution_count": 4
        }
      ]
    },
    {
      "cell_type": "code",
      "metadata": {
        "_cell_guid": "4a995d04-48d1-4f55-80a9-c60547959048",
        "_uuid": "96dedc6041f437863058f1373342927a91076dec",
        "collapsed": true,
        "id": "7GyOj_sXYCdF",
        "colab_type": "code",
        "outputId": "5334571c-1e5f-4f5c-ff3d-0bf6230dd0c0",
        "colab": {
          "base_uri": "https://localhost:8080/",
          "height": 467
        }
      },
      "source": [
        "print(\"Dimension of dataset: wh.shape\")\n",
        "wh.dtypes"
      ],
      "execution_count": 5,
      "outputs": [
        {
          "output_type": "stream",
          "text": [
            "Dimension of dataset: wh.shape\n"
          ],
          "name": "stdout"
        },
        {
          "output_type": "execute_result",
          "data": {
            "text/plain": [
              "Observation         object\n",
              "Y-Kappa            float64\n",
              "ChipRate           float64\n",
              "BF-CMratio         float64\n",
              "BlowFlow           float64\n",
              "ChipLevel4         float64\n",
              "T-upperExt-2       float64\n",
              "T-lowerExt-2       float64\n",
              "UCZAA              float64\n",
              "WhiteFlow-4        float64\n",
              "AAWhiteSt-4        float64\n",
              "AA-Wood-4          float64\n",
              "ChipMoisture-4     float64\n",
              "SteamFlow-4        float64\n",
              "Lower-HeatT-3      float64\n",
              "Upper-HeatT-3      float64\n",
              "ChipMass-4         float64\n",
              "WeakLiquorF        float64\n",
              "BlackFlow-2        float64\n",
              "WeakWashF          float64\n",
              "SteamHeatF-3       float64\n",
              "T-Top-Chips-4      float64\n",
              "SulphidityL-4      float64\n",
              "dtype: object"
            ]
          },
          "metadata": {
            "tags": []
          },
          "execution_count": 5
        }
      ]
    },
    {
      "cell_type": "markdown",
      "metadata": {
        "id": "lhxNYvBePT6V",
        "colab_type": "text"
      },
      "source": [
        "### Visualizing the variables"
      ]
    },
    {
      "cell_type": "code",
      "metadata": {
        "id": "0Zx-MDB8OcV0",
        "colab_type": "code",
        "outputId": "0033a088-eda5-4366-8038-08a4fa37b87b",
        "colab": {
          "base_uri": "https://localhost:8080/",
          "height": 313
        }
      },
      "source": [
        "# matplotlib histogram\n",
        "plt.hist(wh['Y-Kappa'], color = 'blue', edgecolor = 'black', bins = int(180/5))\n",
        "# Add labels\n",
        "plt.title('Histogram of Arrival Delays')\n",
        "plt.xlabel('Delay (min)')\n",
        "plt.ylabel('Flights')"
      ],
      "execution_count": 6,
      "outputs": [
        {
          "output_type": "execute_result",
          "data": {
            "text/plain": [
              "Text(0, 0.5, 'Flights')"
            ]
          },
          "metadata": {
            "tags": []
          },
          "execution_count": 6
        },
        {
          "output_type": "display_data",
          "data": {
            "image/png": "[encoded data removed]",
            "text/plain": [
              "<Figure size 432x288 with 1 Axes>"
            ]
          },
          "metadata": {
            "tags": []
          }
        }
      ]
    },
    {
      "cell_type": "code",
      "metadata": {
        "id": "iWwjlI1zPc8L",
        "colab_type": "code",
        "outputId": "9fd3bf77-51b3-463d-e5ca-95a086ea6fd4",
        "colab": {
          "base_uri": "https://localhost:8080/",
          "height": 301
        }
      },
      "source": [
        "# seaborn histogram\n",
        "sns.distplot(wh['Y-Kappa'], hist=True, kde=False, bins=int(180/5), color = 'blue', hist_kws={'edgecolor':'black'})"
      ],
      "execution_count": 7,
      "outputs": [
        {
          "output_type": "execute_result",
          "data": {
            "text/plain": [
              "<matplotlib.axes._subplots.AxesSubplot at 0x7f5e07950780>"
            ]
          },
          "metadata": {
            "tags": []
          },
          "execution_count": 7
        },
        {
          "output_type": "display_data",
          "data": {
            "image/png": "[encoded data removed]",
            "text/plain": [
              "<Figure size 432x288 with 1 Axes>"
            ]
          },
          "metadata": {
            "tags": []
          }
        }
      ]
    },
    {
      "cell_type": "code",
      "metadata": {
        "id": "SO8m5XNbQy-l",
        "colab_type": "code",
        "outputId": "ee030e54-ebc0-4a99-c525-4bcdd5e7afb0",
        "colab": {
          "base_uri": "https://localhost:8080/",
          "height": 258
        }
      },
      "source": [
        "#Dropping not int column\n",
        "wh=wh.drop(['Observation'], axis=1)\n",
        "wh.head()\n"
      ],
      "execution_count": 8,
      "outputs": [
        {
          "output_type": "execute_result",
          "data": {
            "text/html": [
              "<div>\n",
              "<style scoped>\n",
              "    .dataframe tbody tr th:only-of-type {\n",
              "        vertical-align: middle;\n",
              "    }\n",
              "\n",
              "    .dataframe tbody tr th {\n",
              "        vertical-align: top;\n",
              "    }\n",
              "\n",
              "    .dataframe thead th {\n",
              "        text-align: right;\n",
              "    }\n",
              "</style>\n",
              "<table border=\"1\" class=\"dataframe\">\n",
              "  <thead>\n",
              "    <tr style=\"text-align: right;\">\n",
              "      <th></th>\n",
              "      <th>Y-Kappa</th>\n",
              "      <th>ChipRate</th>\n",
              "      <th>BF-CMratio</th>\n",
              "      <th>BlowFlow</th>\n",
              "      <th>ChipLevel4</th>\n",
              "      <th>T-upperExt-2</th>\n",
              "      <th>T-lowerExt-2</th>\n",
              "      <th>UCZAA</th>\n",
              "      <th>WhiteFlow-4</th>\n",
              "      <th>AAWhiteSt-4</th>\n",
              "      <th>AA-Wood-4</th>\n",
              "      <th>ChipMoisture-4</th>\n",
              "      <th>SteamFlow-4</th>\n",
              "      <th>Lower-HeatT-3</th>\n",
              "      <th>Upper-HeatT-3</th>\n",
              "      <th>ChipMass-4</th>\n",
              "      <th>WeakLiquorF</th>\n",
              "      <th>BlackFlow-2</th>\n",
              "      <th>WeakWashF</th>\n",
              "      <th>SteamHeatF-3</th>\n",
              "      <th>T-Top-Chips-4</th>\n",
              "      <th>SulphidityL-4</th>\n",
              "    </tr>\n",
              "  </thead>\n",
              "  <tbody>\n",
              "    <tr>\n",
              "      <th>0</th>\n",
              "      <td>23.10</td>\n",
              "      <td>16.520</td>\n",
              "      <td>121.717</td>\n",
              "      <td>1177.607</td>\n",
              "      <td>169.805</td>\n",
              "      <td>358.282</td>\n",
              "      <td>329.545</td>\n",
              "      <td>1.443</td>\n",
              "      <td>599.253</td>\n",
              "      <td>NaN</td>\n",
              "      <td>16.471</td>\n",
              "      <td>46.011</td>\n",
              "      <td>67.122</td>\n",
              "      <td>329.432</td>\n",
              "      <td>303.099</td>\n",
              "      <td>175.964</td>\n",
              "      <td>1127.197</td>\n",
              "      <td>1319.039</td>\n",
              "      <td>257.325</td>\n",
              "      <td>54.612</td>\n",
              "      <td>252.077</td>\n",
              "      <td>NaN</td>\n",
              "    </tr>\n",
              "    <tr>\n",
              "      <th>1</th>\n",
              "      <td>27.60</td>\n",
              "      <td>16.810</td>\n",
              "      <td>79.022</td>\n",
              "      <td>1328.360</td>\n",
              "      <td>341.327</td>\n",
              "      <td>351.050</td>\n",
              "      <td>329.067</td>\n",
              "      <td>1.549</td>\n",
              "      <td>537.201</td>\n",
              "      <td>6.076</td>\n",
              "      <td>16.543</td>\n",
              "      <td>43.954</td>\n",
              "      <td>60.012</td>\n",
              "      <td>330.823</td>\n",
              "      <td>304.879</td>\n",
              "      <td>163.202</td>\n",
              "      <td>665.975</td>\n",
              "      <td>1297.317</td>\n",
              "      <td>241.182</td>\n",
              "      <td>46.603</td>\n",
              "      <td>251.406</td>\n",
              "      <td>29.11</td>\n",
              "    </tr>\n",
              "    <tr>\n",
              "      <th>2</th>\n",
              "      <td>23.19</td>\n",
              "      <td>16.709</td>\n",
              "      <td>79.562</td>\n",
              "      <td>1329.407</td>\n",
              "      <td>239.161</td>\n",
              "      <td>350.022</td>\n",
              "      <td>329.260</td>\n",
              "      <td>1.600</td>\n",
              "      <td>549.611</td>\n",
              "      <td>NaN</td>\n",
              "      <td>16.559</td>\n",
              "      <td>44.495</td>\n",
              "      <td>61.304</td>\n",
              "      <td>329.140</td>\n",
              "      <td>303.383</td>\n",
              "      <td>164.013</td>\n",
              "      <td>677.534</td>\n",
              "      <td>1327.072</td>\n",
              "      <td>237.272</td>\n",
              "      <td>51.795</td>\n",
              "      <td>251.335</td>\n",
              "      <td>NaN</td>\n",
              "    </tr>\n",
              "    <tr>\n",
              "      <th>3</th>\n",
              "      <td>23.60</td>\n",
              "      <td>16.478</td>\n",
              "      <td>81.011</td>\n",
              "      <td>1334.877</td>\n",
              "      <td>213.527</td>\n",
              "      <td>350.938</td>\n",
              "      <td>331.142</td>\n",
              "      <td>1.604</td>\n",
              "      <td>623.362</td>\n",
              "      <td>6.054</td>\n",
              "      <td>16.562</td>\n",
              "      <td>45.592</td>\n",
              "      <td>68.496</td>\n",
              "      <td>328.875</td>\n",
              "      <td>302.254</td>\n",
              "      <td>181.487</td>\n",
              "      <td>767.853</td>\n",
              "      <td>1324.461</td>\n",
              "      <td>239.478</td>\n",
              "      <td>54.846</td>\n",
              "      <td>250.312</td>\n",
              "      <td>29.02</td>\n",
              "    </tr>\n",
              "    <tr>\n",
              "      <th>4</th>\n",
              "      <td>22.90</td>\n",
              "      <td>15.618</td>\n",
              "      <td>93.244</td>\n",
              "      <td>1334.168</td>\n",
              "      <td>243.131</td>\n",
              "      <td>351.640</td>\n",
              "      <td>332.709</td>\n",
              "      <td>NaN</td>\n",
              "      <td>638.672</td>\n",
              "      <td>6.110</td>\n",
              "      <td>16.677</td>\n",
              "      <td>45.512</td>\n",
              "      <td>70.022</td>\n",
              "      <td>328.352</td>\n",
              "      <td>300.954</td>\n",
              "      <td>183.929</td>\n",
              "      <td>888.448</td>\n",
              "      <td>1343.424</td>\n",
              "      <td>215.372</td>\n",
              "      <td>54.186</td>\n",
              "      <td>249.916</td>\n",
              "      <td>29.01</td>\n",
              "    </tr>\n",
              "  </tbody>\n",
              "</table>\n",
              "</div>"
            ],
            "text/plain": [
              "   Y-Kappa  ChipRate  BF-CMratio  ...  SteamHeatF-3   T-Top-Chips-4   SulphidityL-4 \n",
              "0    23.10    16.520     121.717  ...         54.612         252.077             NaN\n",
              "1    27.60    16.810      79.022  ...         46.603         251.406           29.11\n",
              "2    23.19    16.709      79.562  ...         51.795         251.335             NaN\n",
              "3    23.60    16.478      81.011  ...         54.846         250.312           29.02\n",
              "4    22.90    15.618      93.244  ...         54.186         249.916           29.01\n",
              "\n",
              "[5 rows x 22 columns]"
            ]
          },
          "metadata": {
            "tags": []
          },
          "execution_count": 8
        }
      ]
    },
    {
      "cell_type": "code",
      "metadata": {
        "id": "ko71uKd1t8dT",
        "colab_type": "code",
        "colab": {}
      },
      "source": [
        "# Create x, where x the 'scores' column's values as floats\n",
        "x = wh[['Y-Kappa']].values.astype(float)\n",
        "\n",
        "# Create a minimum and maximum processor object\n",
        "min_max_scaler = preprocessing.MinMaxScaler()\n",
        "\n",
        "# Create an object to transform the data to fit minmax processor\n",
        "x_scaled = min_max_scaler.fit_transform(x)\n",
        "\n",
        "# Run the normalizer on the dataframe\n",
        "df_normalized = pd.DataFrame(x_scaled)"
      ],
      "execution_count": 0,
      "outputs": []
    },
    {
      "cell_type": "markdown",
      "metadata": {
        "id": "jwZy8OVBqxq4",
        "colab_type": "text"
      },
      "source": [
        "### Scaling Through custom code"
      ]
    },
    {
      "cell_type": "code",
      "metadata": {
        "id": "pKK3b1-cn3o2",
        "colab_type": "code",
        "colab": {}
      },
      "source": [
        "whn1=((wh-wh.min())/(wh.max()-wh.min()))*1"
      ],
      "execution_count": 0,
      "outputs": []
    },
    {
      "cell_type": "code",
      "metadata": {
        "id": "4D7GkKdHpyya",
        "colab_type": "code",
        "outputId": "7e3b207a-47da-4c0c-d9e8-c5c18e40253b",
        "colab": {
          "base_uri": "https://localhost:8080/",
          "height": 258
        }
      },
      "source": [
        "whn1.head()"
      ],
      "execution_count": 11,
      "outputs": [
        {
          "output_type": "execute_result",
          "data": {
            "text/html": [
              "<div>\n",
              "<style scoped>\n",
              "    .dataframe tbody tr th:only-of-type {\n",
              "        vertical-align: middle;\n",
              "    }\n",
              "\n",
              "    .dataframe tbody tr th {\n",
              "        vertical-align: top;\n",
              "    }\n",
              "\n",
              "    .dataframe thead th {\n",
              "        text-align: right;\n",
              "    }\n",
              "</style>\n",
              "<table border=\"1\" class=\"dataframe\">\n",
              "  <thead>\n",
              "    <tr style=\"text-align: right;\">\n",
              "      <th></th>\n",
              "      <th>Y-Kappa</th>\n",
              "      <th>ChipRate</th>\n",
              "      <th>BF-CMratio</th>\n",
              "      <th>BlowFlow</th>\n",
              "      <th>ChipLevel4</th>\n",
              "      <th>T-upperExt-2</th>\n",
              "      <th>T-lowerExt-2</th>\n",
              "      <th>UCZAA</th>\n",
              "      <th>WhiteFlow-4</th>\n",
              "      <th>AAWhiteSt-4</th>\n",
              "      <th>AA-Wood-4</th>\n",
              "      <th>ChipMoisture-4</th>\n",
              "      <th>SteamFlow-4</th>\n",
              "      <th>Lower-HeatT-3</th>\n",
              "      <th>Upper-HeatT-3</th>\n",
              "      <th>ChipMass-4</th>\n",
              "      <th>WeakLiquorF</th>\n",
              "      <th>BlackFlow-2</th>\n",
              "      <th>WeakWashF</th>\n",
              "      <th>SteamHeatF-3</th>\n",
              "      <th>T-Top-Chips-4</th>\n",
              "      <th>SulphidityL-4</th>\n",
              "    </tr>\n",
              "  </thead>\n",
              "  <tbody>\n",
              "    <tr>\n",
              "      <th>0</th>\n",
              "      <td>0.708360</td>\n",
              "      <td>0.937204</td>\n",
              "      <td>1.000000</td>\n",
              "      <td>0.871501</td>\n",
              "      <td>0.405249</td>\n",
              "      <td>0.318742</td>\n",
              "      <td>0.857443</td>\n",
              "      <td>0.461947</td>\n",
              "      <td>0.595011</td>\n",
              "      <td>NaN</td>\n",
              "      <td>0.000000</td>\n",
              "      <td>0.406968</td>\n",
              "      <td>0.672758</td>\n",
              "      <td>0.720180</td>\n",
              "      <td>0.548783</td>\n",
              "      <td>0.823428</td>\n",
              "      <td>0.865988</td>\n",
              "      <td>0.862203</td>\n",
              "      <td>0.359536</td>\n",
              "      <td>0.686579</td>\n",
              "      <td>0.645150</td>\n",
              "      <td>NaN</td>\n",
              "    </tr>\n",
              "    <tr>\n",
              "      <th>1</th>\n",
              "      <td>1.000000</td>\n",
              "      <td>0.978781</td>\n",
              "      <td>0.195527</td>\n",
              "      <td>0.983067</td>\n",
              "      <td>0.814596</td>\n",
              "      <td>0.198142</td>\n",
              "      <td>0.848317</td>\n",
              "      <td>0.649558</td>\n",
              "      <td>0.404833</td>\n",
              "      <td>0.413333</td>\n",
              "      <td>0.023144</td>\n",
              "      <td>0.144461</td>\n",
              "      <td>0.414953</td>\n",
              "      <td>0.808201</td>\n",
              "      <td>0.648593</td>\n",
              "      <td>0.654049</td>\n",
              "      <td>0.242158</td>\n",
              "      <td>0.823192</td>\n",
              "      <td>0.336981</td>\n",
              "      <td>0.398713</td>\n",
              "      <td>0.528718</td>\n",
              "      <td>0.026110</td>\n",
              "    </tr>\n",
              "    <tr>\n",
              "      <th>2</th>\n",
              "      <td>0.714193</td>\n",
              "      <td>0.964301</td>\n",
              "      <td>0.205702</td>\n",
              "      <td>0.983842</td>\n",
              "      <td>0.570771</td>\n",
              "      <td>0.181000</td>\n",
              "      <td>0.852002</td>\n",
              "      <td>0.739823</td>\n",
              "      <td>0.442867</td>\n",
              "      <td>NaN</td>\n",
              "      <td>0.028287</td>\n",
              "      <td>0.213502</td>\n",
              "      <td>0.461801</td>\n",
              "      <td>0.701702</td>\n",
              "      <td>0.564708</td>\n",
              "      <td>0.664813</td>\n",
              "      <td>0.257792</td>\n",
              "      <td>0.876630</td>\n",
              "      <td>0.331517</td>\n",
              "      <td>0.585328</td>\n",
              "      <td>0.516398</td>\n",
              "      <td>NaN</td>\n",
              "    </tr>\n",
              "    <tr>\n",
              "      <th>3</th>\n",
              "      <td>0.740765</td>\n",
              "      <td>0.931183</td>\n",
              "      <td>0.233004</td>\n",
              "      <td>0.987890</td>\n",
              "      <td>0.509594</td>\n",
              "      <td>0.196275</td>\n",
              "      <td>0.887932</td>\n",
              "      <td>0.746903</td>\n",
              "      <td>0.668901</td>\n",
              "      <td>0.364444</td>\n",
              "      <td>0.029251</td>\n",
              "      <td>0.353497</td>\n",
              "      <td>0.722579</td>\n",
              "      <td>0.684933</td>\n",
              "      <td>0.501402</td>\n",
              "      <td>0.896730</td>\n",
              "      <td>0.379954</td>\n",
              "      <td>0.871940</td>\n",
              "      <td>0.334600</td>\n",
              "      <td>0.694990</td>\n",
              "      <td>0.338886</td>\n",
              "      <td>0.002611</td>\n",
              "    </tr>\n",
              "    <tr>\n",
              "      <th>4</th>\n",
              "      <td>0.695399</td>\n",
              "      <td>0.807885</td>\n",
              "      <td>0.463502</td>\n",
              "      <td>0.987366</td>\n",
              "      <td>0.580246</td>\n",
              "      <td>0.207981</td>\n",
              "      <td>0.917849</td>\n",
              "      <td>NaN</td>\n",
              "      <td>0.715823</td>\n",
              "      <td>0.488889</td>\n",
              "      <td>0.066217</td>\n",
              "      <td>0.343287</td>\n",
              "      <td>0.777911</td>\n",
              "      <td>0.651838</td>\n",
              "      <td>0.428507</td>\n",
              "      <td>0.929140</td>\n",
              "      <td>0.543066</td>\n",
              "      <td>0.905996</td>\n",
              "      <td>0.300919</td>\n",
              "      <td>0.671267</td>\n",
              "      <td>0.270172</td>\n",
              "      <td>0.000000</td>\n",
              "    </tr>\n",
              "  </tbody>\n",
              "</table>\n",
              "</div>"
            ],
            "text/plain": [
              "    Y-Kappa  ChipRate  ...  T-Top-Chips-4   SulphidityL-4 \n",
              "0  0.708360  0.937204  ...        0.645150             NaN\n",
              "1  1.000000  0.978781  ...        0.528718        0.026110\n",
              "2  0.714193  0.964301  ...        0.516398             NaN\n",
              "3  0.740765  0.931183  ...        0.338886        0.002611\n",
              "4  0.695399  0.807885  ...        0.270172        0.000000\n",
              "\n",
              "[5 rows x 22 columns]"
            ]
          },
          "metadata": {
            "tags": []
          },
          "execution_count": 11
        }
      ]
    },
    {
      "cell_type": "code",
      "metadata": {
        "id": "8_VwPRY1Vwek",
        "colab_type": "code",
        "outputId": "2a57a11f-2680-4370-ecc2-e16c002bad9b",
        "colab": {
          "base_uri": "https://localhost:8080/",
          "height": 313
        }
      },
      "source": [
        "# matplotlib histogram\n",
        "plt.hist(whn1['Y-Kappa'], color = 'blue', edgecolor = 'black', bins = int(180/5))\n",
        "# Add labels\n",
        "plt.title('Histogram of Arrival Delays')\n",
        "plt.xlabel('Delay (min)')\n",
        "plt.ylabel('Flights')"
      ],
      "execution_count": 12,
      "outputs": [
        {
          "output_type": "execute_result",
          "data": {
            "text/plain": [
              "Text(0, 0.5, 'Flights')"
            ]
          },
          "metadata": {
            "tags": []
          },
          "execution_count": 12
        },
        {
          "output_type": "display_data",
          "data": {
            "image/png": "[encoded data removed]",
            "text/plain": [
              "<Figure size 432x288 with 1 Axes>"
            ]
          },
          "metadata": {
            "tags": []
          }
        }
      ]
    },
    {
      "cell_type": "code",
      "metadata": {
        "id": "7CWF8hbqRr8p",
        "colab_type": "code",
        "outputId": "d86e66de-86f3-447a-d590-a3b395a48195",
        "colab": {
          "base_uri": "https://localhost:8080/",
          "height": 301
        }
      },
      "source": [
        "# seaborn histogram\n",
        "sns.distplot(whn1['Y-Kappa'], hist=True, kde=False, bins=int(180/5), color = 'blue', hist_kws={'edgecolor':'black'})"
      ],
      "execution_count": 13,
      "outputs": [
        {
          "output_type": "execute_result",
          "data": {
            "text/plain": [
              "<matplotlib.axes._subplots.AxesSubplot at 0x7f5e04d3b9e8>"
            ]
          },
          "metadata": {
            "tags": []
          },
          "execution_count": 13
        },
        {
          "output_type": "display_data",
          "data": {
            "image/png": "[encoded data removed]",
            "text/plain": [
              "<Figure size 432x288 with 1 Axes>"
            ]
          },
          "metadata": {
            "tags": []
          }
        }
      ]
    },
    {
      "cell_type": "markdown",
      "metadata": {
        "id": "y5oRDdQUrAFL",
        "colab_type": "text"
      },
      "source": [
        "### Scaling through mlextend package"
      ]
    },
    {
      "cell_type": "code",
      "metadata": {
        "id": "Hpzp6aLCkUEC",
        "colab_type": "code",
        "colab": {}
      },
      "source": [
        "# for min_max scaling\n",
        "from mlxtend.preprocessing import minmax_scaling\n",
        "# mix-max scale the data between 0 and 1\n",
        "whn2 = minmax_scaling(wh, columns = ['Y-Kappa'])"
      ],
      "execution_count": 0,
      "outputs": []
    },
    {
      "cell_type": "code",
      "metadata": {
        "id": "1uO0Omc9qYQP",
        "colab_type": "code",
        "outputId": "0f71bf06-9d99-4f3b-9054-d68b494101c8",
        "colab": {
          "base_uri": "https://localhost:8080/",
          "height": 313
        }
      },
      "source": [
        "# matplotlib histogram\n",
        "plt.hist(whn2['Y-Kappa'], color = 'blue', edgecolor = 'black', bins = int(180/5))\n",
        "# Add labels\n",
        "plt.title('Histogram of Arrival Delays')\n",
        "plt.xlabel('Delay (min)')\n",
        "plt.ylabel('Flights')"
      ],
      "execution_count": 15,
      "outputs": [
        {
          "output_type": "execute_result",
          "data": {
            "text/plain": [
              "Text(0, 0.5, 'Flights')"
            ]
          },
          "metadata": {
            "tags": []
          },
          "execution_count": 15
        },
        {
          "output_type": "display_data",
          "data": {
            "image/png": "[encoded data removed]",
            "text/plain": [
              "<Figure size 432x288 with 1 Axes>"
            ]
          },
          "metadata": {
            "tags": []
          }
        }
      ]
    },
    {
      "cell_type": "code",
      "metadata": {
        "id": "nLjosGqTke_G",
        "colab_type": "code",
        "outputId": "e0401a51-257e-4926-9282-143f0488ebaa",
        "colab": {
          "base_uri": "https://localhost:8080/",
          "height": 301
        }
      },
      "source": [
        "# seaborn histogram\n",
        "sns.distplot(whn2['Y-Kappa'], hist=True, kde=False, bins=int(180/5), color = 'blue', hist_kws={'edgecolor':'black'})"
      ],
      "execution_count": 16,
      "outputs": [
        {
          "output_type": "execute_result",
          "data": {
            "text/plain": [
              "<matplotlib.axes._subplots.AxesSubplot at 0x7f5e03bc3b70>"
            ]
          },
          "metadata": {
            "tags": []
          },
          "execution_count": 16
        },
        {
          "output_type": "display_data",
          "data": {
            "image/png": "[encoded data removed]",
            "text/plain": [
              "<Figure size 432x288 with 1 Axes>"
            ]
          },
          "metadata": {
            "tags": []
          }
        }
      ]
    },
    {
      "cell_type": "markdown",
      "metadata": {
        "id": "gAZ-rJh8xr9n",
        "colab_type": "text"
      },
      "source": [
        "### Z_Score normalization"
      ]
    },
    {
      "cell_type": "code",
      "metadata": {
        "id": "brwxsbNfsKxb",
        "colab_type": "code",
        "colab": {}
      },
      "source": [
        "normalized_df=(wh-wh.mean())/wh.std()"
      ],
      "execution_count": 0,
      "outputs": []
    },
    {
      "cell_type": "code",
      "metadata": {
        "id": "G3KtFLWHw28V",
        "colab_type": "code",
        "outputId": "09ea74ad-57d4-402d-f144-8e5e5ff8c99b",
        "colab": {
          "base_uri": "https://localhost:8080/",
          "height": 313
        }
      },
      "source": [
        "# matplotlib histogram\n",
        "plt.hist(normalized_df['Y-Kappa'], color = 'blue', edgecolor = 'black', bins = int(180/5))\n",
        "# Add labels\n",
        "plt.title('Histogram of Arrival Delays')\n",
        "plt.xlabel('Delay (min)')\n",
        "plt.ylabel('Flights')"
      ],
      "execution_count": 18,
      "outputs": [
        {
          "output_type": "execute_result",
          "data": {
            "text/plain": [
              "Text(0, 0.5, 'Flights')"
            ]
          },
          "metadata": {
            "tags": []
          },
          "execution_count": 18
        },
        {
          "output_type": "display_data",
          "data": {
            "image/png": "[encoded data removed]",
            "text/plain": [
              "<Figure size 432x288 with 1 Axes>"
            ]
          },
          "metadata": {
            "tags": []
          }
        }
      ]
    },
    {
      "cell_type": "code",
      "metadata": {
        "id": "JB9mJ4Mzw8oT",
        "colab_type": "code",
        "outputId": "b802b3b9-9c0e-4489-fb7c-3eb13c73b2c5",
        "colab": {
          "base_uri": "https://localhost:8080/",
          "height": 301
        }
      },
      "source": [
        "# seaborn histogram\n",
        "sns.distplot(normalized_df['Y-Kappa'], hist=True, kde=False, bins=int(180/5), color = 'blue', hist_kws={'edgecolor':'black'})"
      ],
      "execution_count": 19,
      "outputs": [
        {
          "output_type": "execute_result",
          "data": {
            "text/plain": [
              "<matplotlib.axes._subplots.AxesSubplot at 0x7f5e03a8c048>"
            ]
          },
          "metadata": {
            "tags": []
          },
          "execution_count": 19
        },
        {
          "output_type": "display_data",
          "data": {
            "image/png": "[encoded data removed]",
            "text/plain": [
              "<Figure size 432x288 with 1 Axes>"
            ]
          },
          "metadata": {
            "tags": []
          }
        }
      ]
    },
    {
      "cell_type": "markdown",
      "metadata": {
        "id": "VUdCGykEx1Gm",
        "colab_type": "text"
      },
      "source": [
        "# Descretization"
      ]
    },
    {
      "cell_type": "markdown",
      "metadata": {
        "id": "jm2eOE1fif8Z",
        "colab_type": "text"
      },
      "source": [
        "### Numeric Descrtization"
      ]
    },
    {
      "cell_type": "code",
      "metadata": {
        "id": "wW0MXeNYawrT",
        "colab_type": "code",
        "colab": {
          "base_uri": "https://localhost:8080/",
          "height": 1000
        },
        "outputId": "e679ef3c-6170-42af-88bd-708157e25668"
      },
      "source": [
        "bins = [0, 1, 5, 10, 25, 50, 100]\n",
        "wh['binned1'] = np.searchsorted(bins, wh['Y-Kappa'].values)\n",
        "print (wh['binned1'])"
      ],
      "execution_count": 51,
      "outputs": [
        {
          "output_type": "stream",
          "text": [
            "0      4\n",
            "1      5\n",
            "2      4\n",
            "3      4\n",
            "4      4\n",
            "5      4\n",
            "6      4\n",
            "7      4\n",
            "8      4\n",
            "9      4\n",
            "10     4\n",
            "11     5\n",
            "12     5\n",
            "13     4\n",
            "14     5\n",
            "15     4\n",
            "16     4\n",
            "17     4\n",
            "18     4\n",
            "19     4\n",
            "20     4\n",
            "21     4\n",
            "22     4\n",
            "23     4\n",
            "24     4\n",
            "25     4\n",
            "26     4\n",
            "27     4\n",
            "28     4\n",
            "29     4\n",
            "      ..\n",
            "271    4\n",
            "272    4\n",
            "273    4\n",
            "274    4\n",
            "275    4\n",
            "276    4\n",
            "277    4\n",
            "278    4\n",
            "279    4\n",
            "280    4\n",
            "281    4\n",
            "282    4\n",
            "283    4\n",
            "284    4\n",
            "285    4\n",
            "286    4\n",
            "287    4\n",
            "288    4\n",
            "289    4\n",
            "290    4\n",
            "291    4\n",
            "292    4\n",
            "293    4\n",
            "294    4\n",
            "295    4\n",
            "296    4\n",
            "297    4\n",
            "298    4\n",
            "299    4\n",
            "300    4\n",
            "Name: binned1, Length: 301, dtype: int64\n"
          ],
          "name": "stdout"
        }
      ]
    },
    {
      "cell_type": "code",
      "metadata": {
        "id": "JPCwZ8aIiASZ",
        "colab_type": "code",
        "colab": {
          "base_uri": "https://localhost:8080/",
          "height": 313
        },
        "outputId": "9d50fe3f-5088-486d-a3a4-e5ce2d4b5e35"
      },
      "source": [
        "# matplotlib histogram\n",
        "plt.hist(wh['binned1'], color = 'blue', edgecolor = 'black', bins = int(180/5))\n",
        "# Add labels\n",
        "plt.title('Histogram of Arrival Delays')\n",
        "plt.xlabel('Delay (min)')\n",
        "plt.ylabel('Flights')"
      ],
      "execution_count": 52,
      "outputs": [
        {
          "output_type": "execute_result",
          "data": {
            "text/plain": [
              "Text(0, 0.5, 'Flights')"
            ]
          },
          "metadata": {
            "tags": []
          },
          "execution_count": 52
        },
        {
          "output_type": "display_data",
          "data": {
            "image/png": "[encoded data removed]",
            "text/plain": [
              "<Figure size 432x288 with 1 Axes>"
            ]
          },
          "metadata": {
            "tags": []
          }
        }
      ]
    },
    {
      "cell_type": "code",
      "metadata": {
        "id": "GHQJxQNsa8jI",
        "colab_type": "code",
        "colab": {
          "base_uri": "https://localhost:8080/",
          "height": 301
        },
        "outputId": "6bc3887a-29b0-4c3b-9059-d275838a8997"
      },
      "source": [
        "# seaborn histogram\n",
        "sns.distplot(wh['binned1'], hist=True, kde=False, bins=int(180/5), color = 'blue', hist_kws={'edgecolor':'black'})"
      ],
      "execution_count": 53,
      "outputs": [
        {
          "output_type": "execute_result",
          "data": {
            "text/plain": [
              "<matplotlib.axes._subplots.AxesSubplot at 0x7f5e031edc88>"
            ]
          },
          "metadata": {
            "tags": []
          },
          "execution_count": 53
        },
        {
          "output_type": "display_data",
          "data": {
            "image/png": "[encoded data removed]",
            "text/plain": [
              "<Figure size 432x288 with 1 Axes>"
            ]
          },
          "metadata": {
            "tags": []
          }
        }
      ]
    },
    {
      "cell_type": "markdown",
      "metadata": {
        "id": "8TPG9ZjViWZl",
        "colab_type": "text"
      },
      "source": [
        "### Categorical Descritization"
      ]
    },
    {
      "cell_type": "code",
      "metadata": {
        "id": "Cr9hmFUxYp8Z",
        "colab_type": "code",
        "colab": {
          "base_uri": "https://localhost:8080/",
          "height": 1000
        },
        "outputId": "077e446e-bab8-4a96-e2a7-9b4bc36b9c87"
      },
      "source": [
        "bins = [0, 1, 5, 10, 25, 50, 100]\n",
        "wh['binned'] = pd.cut(wh['Y-Kappa'], bins)\n",
        "wh['binned'] "
      ],
      "execution_count": 39,
      "outputs": [
        {
          "output_type": "execute_result",
          "data": {
            "text/plain": [
              "0      (10, 25]\n",
              "1      (25, 50]\n",
              "2      (10, 25]\n",
              "3      (10, 25]\n",
              "4      (10, 25]\n",
              "5      (10, 25]\n",
              "6      (10, 25]\n",
              "7      (10, 25]\n",
              "8      (10, 25]\n",
              "9      (10, 25]\n",
              "10     (10, 25]\n",
              "11     (25, 50]\n",
              "12     (25, 50]\n",
              "13     (10, 25]\n",
              "14     (25, 50]\n",
              "15     (10, 25]\n",
              "16     (10, 25]\n",
              "17     (10, 25]\n",
              "18     (10, 25]\n",
              "19     (10, 25]\n",
              "20     (10, 25]\n",
              "21     (10, 25]\n",
              "22     (10, 25]\n",
              "23     (10, 25]\n",
              "24     (10, 25]\n",
              "25     (10, 25]\n",
              "26     (10, 25]\n",
              "27     (10, 25]\n",
              "28     (10, 25]\n",
              "29     (10, 25]\n",
              "         ...   \n",
              "271    (10, 25]\n",
              "272    (10, 25]\n",
              "273    (10, 25]\n",
              "274    (10, 25]\n",
              "275    (10, 25]\n",
              "276    (10, 25]\n",
              "277    (10, 25]\n",
              "278    (10, 25]\n",
              "279    (10, 25]\n",
              "280    (10, 25]\n",
              "281    (10, 25]\n",
              "282    (10, 25]\n",
              "283    (10, 25]\n",
              "284    (10, 25]\n",
              "285    (10, 25]\n",
              "286    (10, 25]\n",
              "287    (10, 25]\n",
              "288    (10, 25]\n",
              "289    (10, 25]\n",
              "290    (10, 25]\n",
              "291    (10, 25]\n",
              "292    (10, 25]\n",
              "293    (10, 25]\n",
              "294    (10, 25]\n",
              "295    (10, 25]\n",
              "296    (10, 25]\n",
              "297    (10, 25]\n",
              "298    (10, 25]\n",
              "299    (10, 25]\n",
              "300    (10, 25]\n",
              "Name: binned, Length: 301, dtype: category\n",
              "Categories (6, interval[int64]): [(0, 1] < (1, 5] < (5, 10] < (10, 25] < (25, 50] < (50, 100]]"
            ]
          },
          "metadata": {
            "tags": []
          },
          "execution_count": 39
        }
      ]
    },
    {
      "cell_type": "code",
      "metadata": {
        "id": "PdjkZFQVffle",
        "colab_type": "code",
        "colab": {
          "base_uri": "https://localhost:8080/",
          "height": 323
        },
        "outputId": "8fd67aa9-009c-491b-d63f-23dc87a8de39"
      },
      "source": [
        "wh['binned'].value_counts().plot(kind='bar')"
      ],
      "execution_count": 40,
      "outputs": [
        {
          "output_type": "execute_result",
          "data": {
            "text/plain": [
              "<matplotlib.axes._subplots.AxesSubplot at 0x7f5e0360f128>"
            ]
          },
          "metadata": {
            "tags": []
          },
          "execution_count": 40
        },
        {
          "output_type": "display_data",
          "data": {
            "image/png": "[encoded data removed]",
            "text/plain": [
              "<Figure size 432x288 with 1 Axes>"
            ]
          },
          "metadata": {
            "tags": []
          }
        }
      ]
    },
    {
      "cell_type": "code",
      "metadata": {
        "id": "MVlpRpHdgx_m",
        "colab_type": "code",
        "colab": {
          "base_uri": "https://localhost:8080/",
          "height": 301
        },
        "outputId": "b57e4d1b-dc48-4d7d-d2f8-41129bde325d"
      },
      "source": [
        "sns.countplot(wh['binned'])"
      ],
      "execution_count": 44,
      "outputs": [
        {
          "output_type": "execute_result",
          "data": {
            "text/plain": [
              "<matplotlib.axes._subplots.AxesSubplot at 0x7f5e0385f898>"
            ]
          },
          "metadata": {
            "tags": []
          },
          "execution_count": 44
        },
        {
          "output_type": "display_data",
          "data": {
            "image/png": "[encoded data removed]",
            "text/plain": [
              "<Figure size 432x288 with 1 Axes>"
            ]
          },
          "metadata": {
            "tags": []
          }
        }
      ]
    },
    {
      "cell_type": "code",
      "metadata": {
        "id": "PqKymap6bQ-L",
        "colab_type": "code",
        "colab": {
          "base_uri": "https://localhost:8080/",
          "height": 1000
        },
        "outputId": "82a7fd42-30fb-4856-dcb0-b61b46878a49"
      },
      "source": [
        "wh['binned2']=pd.cut(wh['Y-Kappa'], 8) \n",
        "wh['binned2']"
      ],
      "execution_count": 47,
      "outputs": [
        {
          "output_type": "execute_result",
          "data": {
            "text/plain": [
              "0      (21.814, 23.742]\n",
              "1        (25.671, 27.6]\n",
              "2      (21.814, 23.742]\n",
              "3      (21.814, 23.742]\n",
              "4      (21.814, 23.742]\n",
              "5      (19.885, 21.814]\n",
              "6      (21.814, 23.742]\n",
              "7      (21.814, 23.742]\n",
              "8      (23.742, 25.671]\n",
              "9      (21.814, 23.742]\n",
              "10     (23.742, 25.671]\n",
              "11       (25.671, 27.6]\n",
              "12       (25.671, 27.6]\n",
              "13     (23.742, 25.671]\n",
              "14     (23.742, 25.671]\n",
              "15     (23.742, 25.671]\n",
              "16     (16.028, 17.956]\n",
              "17     (16.028, 17.956]\n",
              "18     (19.885, 21.814]\n",
              "19     (19.885, 21.814]\n",
              "20     (19.885, 21.814]\n",
              "21     (21.814, 23.742]\n",
              "22     (21.814, 23.742]\n",
              "23     (19.885, 21.814]\n",
              "24     (19.885, 21.814]\n",
              "25     (17.956, 19.885]\n",
              "26     (19.885, 21.814]\n",
              "27     (19.885, 21.814]\n",
              "28     (19.885, 21.814]\n",
              "29     (23.742, 25.671]\n",
              "             ...       \n",
              "271    (21.814, 23.742]\n",
              "272    (21.814, 23.742]\n",
              "273    (21.814, 23.742]\n",
              "274    (21.814, 23.742]\n",
              "275    (21.814, 23.742]\n",
              "276    (19.885, 21.814]\n",
              "277    (19.885, 21.814]\n",
              "278    (19.885, 21.814]\n",
              "279    (21.814, 23.742]\n",
              "280    (23.742, 25.671]\n",
              "281    (19.885, 21.814]\n",
              "282    (19.885, 21.814]\n",
              "283    (19.885, 21.814]\n",
              "284    (17.956, 19.885]\n",
              "285    (17.956, 19.885]\n",
              "286    (19.885, 21.814]\n",
              "287    (21.814, 23.742]\n",
              "288    (21.814, 23.742]\n",
              "289    (19.885, 21.814]\n",
              "290    (19.885, 21.814]\n",
              "291    (21.814, 23.742]\n",
              "292    (17.956, 19.885]\n",
              "293    (17.956, 19.885]\n",
              "294    (17.956, 19.885]\n",
              "295    (19.885, 21.814]\n",
              "296    (19.885, 21.814]\n",
              "297    (19.885, 21.814]\n",
              "298    (23.742, 25.671]\n",
              "299    (19.885, 21.814]\n",
              "300    (19.885, 21.814]\n",
              "Name: binned2, Length: 301, dtype: category\n",
              "Categories (8, interval[float64]): [(12.155, 14.099] < (14.099, 16.028] < (16.028, 17.956] <\n",
              "                                    (17.956, 19.885] < (19.885, 21.814] < (21.814, 23.742] <\n",
              "                                    (23.742, 25.671] < (25.671, 27.6]]"
            ]
          },
          "metadata": {
            "tags": []
          },
          "execution_count": 47
        }
      ]
    },
    {
      "cell_type": "code",
      "metadata": {
        "id": "WeWDv9HxiJSw",
        "colab_type": "code",
        "colab": {
          "base_uri": "https://localhost:8080/",
          "height": 361
        },
        "outputId": "8dae9e25-3205-4471-d42a-6f35f9a3b881"
      },
      "source": [
        "wh['binned2'].value_counts().plot(kind='bar')"
      ],
      "execution_count": 48,
      "outputs": [
        {
          "output_type": "execute_result",
          "data": {
            "text/plain": [
              "<matplotlib.axes._subplots.AxesSubplot at 0x7f5e036fab70>"
            ]
          },
          "metadata": {
            "tags": []
          },
          "execution_count": 48
        },
        {
          "output_type": "display_data",
          "data": {
            "image/png": "[encoded data removed]",
            "text/plain": [
              "<Figure size 432x288 with 1 Axes>"
            ]
          },
          "metadata": {
            "tags": []
          }
        }
      ]
    },
    {
      "cell_type": "code",
      "metadata": {
        "id": "N-_UF-gbit7s",
        "colab_type": "code",
        "colab": {
          "base_uri": "https://localhost:8080/",
          "height": 301
        },
        "outputId": "221e05b8-6b67-4bf9-dfe4-22ab4ea06716"
      },
      "source": [
        "sns.countplot(wh['binned2'])"
      ],
      "execution_count": 50,
      "outputs": [
        {
          "output_type": "execute_result",
          "data": {
            "text/plain": [
              "<matplotlib.axes._subplots.AxesSubplot at 0x7f5e032d5fd0>"
            ]
          },
          "metadata": {
            "tags": []
          },
          "execution_count": 50
        },
        {
          "output_type": "display_data",
          "data": {
            "image/png": "[encoded data removed]",
            "text/plain": [
              "<Figure size 432x288 with 1 Axes>"
            ]
          },
          "metadata": {
            "tags": []
          }
        }
      ]
    },
    {
      "cell_type": "code",
      "metadata": {
        "id": "E7muBwYoi06v",
        "colab_type": "code",
        "colab": {}
      },
      "source": [
        ""
      ],
      "execution_count": 0,
      "outputs": []
    }
  ]
}